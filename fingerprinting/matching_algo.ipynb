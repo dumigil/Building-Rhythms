{
 "metadata": {
  "language_info": {
   "codemirror_mode": {
    "name": "ipython",
    "version": 3
   },
   "file_extension": ".py",
   "mimetype": "text/x-python",
   "name": "python",
   "nbconvert_exporter": "python",
   "pygments_lexer": "ipython3",
   "version": "3.6.13"
  },
  "orig_nbformat": 2,
  "kernelspec": {
   "name": "python3613jvsc74a57bd07c890885428380745ddc83c090e97bb2ea56276147265d2c0cfb0f82bcf6575c",
   "display_name": "Python 3.6.13 64-bit ('gis': conda)"
  }
 },
 "nbformat": 4,
 "nbformat_minor": 2,
 "cells": [
  {
   "cell_type": "code",
   "execution_count": 1,
   "metadata": {},
   "outputs": [],
   "source": [
    "import pandas as pd\n",
    "# pd.set_option('display.max_rows', 500)\n",
    "pd.set_option('display.max_columns', 50)\n",
    "import os\n",
    "import numpy as np\n",
    "from scipy import stats\n",
    "from sklearn.neighbors import KNeighborsClassifier"
   ]
  },
  {
   "cell_type": "code",
   "execution_count": 2,
   "metadata": {},
   "outputs": [
    {
     "output_type": "stream",
     "name": "stdout",
     "text": [
      "no of unique eduroam mac id:\t 31\nunique places are ['2_031' '2_032' '2_033' '2_034']\n"
     ]
    },
    {
     "output_type": "execute_result",
     "data": {
      "text/plain": [
       "                    time              macID vendor access_pt signal idk idk_2  \\\n",
       "0   19/5/2021 4:50:27 μμ  84:3D:C6:C7:EF:20    NaN   eduroam    -81  35   NaN   \n",
       "1   19/5/2021 4:50:27 μμ  84:3D:C6:B4:E3:BF    NaN   eduroam    -82  33   NaN   \n",
       "2   19/5/2021 4:50:27 μμ  84:3D:C6:B9:2B:10    NaN   eduroam    -80  38   NaN   \n",
       "3   19/5/2021 4:50:27 μμ  84:3D:C6:B9:2B:1F    NaN   eduroam    -79  40   NaN   \n",
       "4   19/5/2021 4:50:27 μμ  00:3A:7D:27:B3:9F    NaN   eduroam    -83  31   NaN   \n",
       "5   19/5/2021 4:50:27 μμ  00:3A:7D:1E:DC:FF    NaN   eduroam    -68  72   NaN   \n",
       "6   19/5/2021 4:50:27 μμ  00:3A:7D:34:79:FF    NaN   eduroam    -77  46   NaN   \n",
       "7   19/5/2021 4:50:27 μμ  84:3D:C6:C7:ED:1F    NaN   eduroam    -72  62   NaN   \n",
       "8   19/5/2021 4:50:27 μμ  00:3A:7D:21:42:EF    NaN   eduroam    -49  89   NaN   \n",
       "9   19/5/2021 4:50:27 μμ  00:3A:7D:21:45:8F    NaN   eduroam    -79  40   NaN   \n",
       "10  19/5/2021 4:50:27 μμ  00:3A:7D:34:77:DF    NaN   eduroam    -72  62   NaN   \n",
       "11  19/5/2021 4:50:27 μμ  84:3D:C6:C7:ED:10    NaN   eduroam    -65  80   NaN   \n",
       "12  19/5/2021 4:50:27 μμ  00:3A:7D:34:77:D0    NaN   eduroam    -68  72   NaN   \n",
       "13  19/5/2021 4:50:27 μμ  00:3A:7D:34:79:F0    NaN   eduroam    -73  60   NaN   \n",
       "14  19/5/2021 4:50:27 μμ  00:3A:7D:1E:DC:F0    NaN   eduroam    -55  85   NaN   \n",
       "\n",
       "                  freq station_info                              specs  place  \n",
       "0     Ch 6 [2.437 GHz]   0 Stations  Wi-Fi [Intel(R) Wireless-AC 9462]  2_031  \n",
       "1   Ch 116 [5.580 GHz]   0 Stations  Wi-Fi [Intel(R) Wireless-AC 9462]  2_031  \n",
       "2     Ch 1 [2.412 GHz]   0 Stations  Wi-Fi [Intel(R) Wireless-AC 9462]  2_031  \n",
       "3    Ch 48 [5.240 GHz]   0 Stations  Wi-Fi [Intel(R) Wireless-AC 9462]  2_031  \n",
       "4    Ch 36 [5.180 GHz]    1 Station  Wi-Fi [Intel(R) Wireless-AC 9462]  2_031  \n",
       "5   Ch 132 [5.660 GHz]    1 Station  Wi-Fi [Intel(R) Wireless-AC 9462]  2_031  \n",
       "6   Ch 100 [5.500 GHz]   0 Stations  Wi-Fi [Intel(R) Wireless-AC 9462]  2_031  \n",
       "7   Ch 100 [5.500 GHz]   0 Stations  Wi-Fi [Intel(R) Wireless-AC 9462]  2_031  \n",
       "8    Ch 64 [5.320 GHz]  13 Stations  Wi-Fi [Intel(R) Wireless-AC 9462]  2_031  \n",
       "9    Ch 60 [5.300 GHz]   5 Stations  Wi-Fi [Intel(R) Wireless-AC 9462]  2_031  \n",
       "10   Ch 40 [5.200 GHz]   3 Stations  Wi-Fi [Intel(R) Wireless-AC 9462]  2_031  \n",
       "11   Ch 11 [2.462 GHz]   0 Stations  Wi-Fi [Intel(R) Wireless-AC 9462]  2_031  \n",
       "12   Ch 11 [2.462 GHz]    1 Station  Wi-Fi [Intel(R) Wireless-AC 9462]  2_031  \n",
       "13   Ch 11 [2.462 GHz]   0 Stations  Wi-Fi [Intel(R) Wireless-AC 9462]  2_031  \n",
       "14    Ch 6 [2.437 GHz]    1 Station  Wi-Fi [Intel(R) Wireless-AC 9462]  2_031  "
      ],
      "text/html": "<div>\n<style scoped>\n    .dataframe tbody tr th:only-of-type {\n        vertical-align: middle;\n    }\n\n    .dataframe tbody tr th {\n        vertical-align: top;\n    }\n\n    .dataframe thead th {\n        text-align: right;\n    }\n</style>\n<table border=\"1\" class=\"dataframe\">\n  <thead>\n    <tr style=\"text-align: right;\">\n      <th></th>\n      <th>time</th>\n      <th>macID</th>\n      <th>vendor</th>\n      <th>access_pt</th>\n      <th>signal</th>\n      <th>idk</th>\n      <th>idk_2</th>\n      <th>freq</th>\n      <th>station_info</th>\n      <th>specs</th>\n      <th>place</th>\n    </tr>\n  </thead>\n  <tbody>\n    <tr>\n      <th>0</th>\n      <td>19/5/2021 4:50:27 μμ</td>\n      <td>84:3D:C6:C7:EF:20</td>\n      <td>NaN</td>\n      <td>eduroam</td>\n      <td>-81</td>\n      <td>35</td>\n      <td>NaN</td>\n      <td>Ch 6 [2.437 GHz]</td>\n      <td>0 Stations</td>\n      <td>Wi-Fi [Intel(R) Wireless-AC 9462]</td>\n      <td>2_031</td>\n    </tr>\n    <tr>\n      <th>1</th>\n      <td>19/5/2021 4:50:27 μμ</td>\n      <td>84:3D:C6:B4:E3:BF</td>\n      <td>NaN</td>\n      <td>eduroam</td>\n      <td>-82</td>\n      <td>33</td>\n      <td>NaN</td>\n      <td>Ch 116 [5.580 GHz]</td>\n      <td>0 Stations</td>\n      <td>Wi-Fi [Intel(R) Wireless-AC 9462]</td>\n      <td>2_031</td>\n    </tr>\n    <tr>\n      <th>2</th>\n      <td>19/5/2021 4:50:27 μμ</td>\n      <td>84:3D:C6:B9:2B:10</td>\n      <td>NaN</td>\n      <td>eduroam</td>\n      <td>-80</td>\n      <td>38</td>\n      <td>NaN</td>\n      <td>Ch 1 [2.412 GHz]</td>\n      <td>0 Stations</td>\n      <td>Wi-Fi [Intel(R) Wireless-AC 9462]</td>\n      <td>2_031</td>\n    </tr>\n    <tr>\n      <th>3</th>\n      <td>19/5/2021 4:50:27 μμ</td>\n      <td>84:3D:C6:B9:2B:1F</td>\n      <td>NaN</td>\n      <td>eduroam</td>\n      <td>-79</td>\n      <td>40</td>\n      <td>NaN</td>\n      <td>Ch 48 [5.240 GHz]</td>\n      <td>0 Stations</td>\n      <td>Wi-Fi [Intel(R) Wireless-AC 9462]</td>\n      <td>2_031</td>\n    </tr>\n    <tr>\n      <th>4</th>\n      <td>19/5/2021 4:50:27 μμ</td>\n      <td>00:3A:7D:27:B3:9F</td>\n      <td>NaN</td>\n      <td>eduroam</td>\n      <td>-83</td>\n      <td>31</td>\n      <td>NaN</td>\n      <td>Ch 36 [5.180 GHz]</td>\n      <td>1 Station</td>\n      <td>Wi-Fi [Intel(R) Wireless-AC 9462]</td>\n      <td>2_031</td>\n    </tr>\n    <tr>\n      <th>5</th>\n      <td>19/5/2021 4:50:27 μμ</td>\n      <td>00:3A:7D:1E:DC:FF</td>\n      <td>NaN</td>\n      <td>eduroam</td>\n      <td>-68</td>\n      <td>72</td>\n      <td>NaN</td>\n      <td>Ch 132 [5.660 GHz]</td>\n      <td>1 Station</td>\n      <td>Wi-Fi [Intel(R) Wireless-AC 9462]</td>\n      <td>2_031</td>\n    </tr>\n    <tr>\n      <th>6</th>\n      <td>19/5/2021 4:50:27 μμ</td>\n      <td>00:3A:7D:34:79:FF</td>\n      <td>NaN</td>\n      <td>eduroam</td>\n      <td>-77</td>\n      <td>46</td>\n      <td>NaN</td>\n      <td>Ch 100 [5.500 GHz]</td>\n      <td>0 Stations</td>\n      <td>Wi-Fi [Intel(R) Wireless-AC 9462]</td>\n      <td>2_031</td>\n    </tr>\n    <tr>\n      <th>7</th>\n      <td>19/5/2021 4:50:27 μμ</td>\n      <td>84:3D:C6:C7:ED:1F</td>\n      <td>NaN</td>\n      <td>eduroam</td>\n      <td>-72</td>\n      <td>62</td>\n      <td>NaN</td>\n      <td>Ch 100 [5.500 GHz]</td>\n      <td>0 Stations</td>\n      <td>Wi-Fi [Intel(R) Wireless-AC 9462]</td>\n      <td>2_031</td>\n    </tr>\n    <tr>\n      <th>8</th>\n      <td>19/5/2021 4:50:27 μμ</td>\n      <td>00:3A:7D:21:42:EF</td>\n      <td>NaN</td>\n      <td>eduroam</td>\n      <td>-49</td>\n      <td>89</td>\n      <td>NaN</td>\n      <td>Ch 64 [5.320 GHz]</td>\n      <td>13 Stations</td>\n      <td>Wi-Fi [Intel(R) Wireless-AC 9462]</td>\n      <td>2_031</td>\n    </tr>\n    <tr>\n      <th>9</th>\n      <td>19/5/2021 4:50:27 μμ</td>\n      <td>00:3A:7D:21:45:8F</td>\n      <td>NaN</td>\n      <td>eduroam</td>\n      <td>-79</td>\n      <td>40</td>\n      <td>NaN</td>\n      <td>Ch 60 [5.300 GHz]</td>\n      <td>5 Stations</td>\n      <td>Wi-Fi [Intel(R) Wireless-AC 9462]</td>\n      <td>2_031</td>\n    </tr>\n    <tr>\n      <th>10</th>\n      <td>19/5/2021 4:50:27 μμ</td>\n      <td>00:3A:7D:34:77:DF</td>\n      <td>NaN</td>\n      <td>eduroam</td>\n      <td>-72</td>\n      <td>62</td>\n      <td>NaN</td>\n      <td>Ch 40 [5.200 GHz]</td>\n      <td>3 Stations</td>\n      <td>Wi-Fi [Intel(R) Wireless-AC 9462]</td>\n      <td>2_031</td>\n    </tr>\n    <tr>\n      <th>11</th>\n      <td>19/5/2021 4:50:27 μμ</td>\n      <td>84:3D:C6:C7:ED:10</td>\n      <td>NaN</td>\n      <td>eduroam</td>\n      <td>-65</td>\n      <td>80</td>\n      <td>NaN</td>\n      <td>Ch 11 [2.462 GHz]</td>\n      <td>0 Stations</td>\n      <td>Wi-Fi [Intel(R) Wireless-AC 9462]</td>\n      <td>2_031</td>\n    </tr>\n    <tr>\n      <th>12</th>\n      <td>19/5/2021 4:50:27 μμ</td>\n      <td>00:3A:7D:34:77:D0</td>\n      <td>NaN</td>\n      <td>eduroam</td>\n      <td>-68</td>\n      <td>72</td>\n      <td>NaN</td>\n      <td>Ch 11 [2.462 GHz]</td>\n      <td>1 Station</td>\n      <td>Wi-Fi [Intel(R) Wireless-AC 9462]</td>\n      <td>2_031</td>\n    </tr>\n    <tr>\n      <th>13</th>\n      <td>19/5/2021 4:50:27 μμ</td>\n      <td>00:3A:7D:34:79:F0</td>\n      <td>NaN</td>\n      <td>eduroam</td>\n      <td>-73</td>\n      <td>60</td>\n      <td>NaN</td>\n      <td>Ch 11 [2.462 GHz]</td>\n      <td>0 Stations</td>\n      <td>Wi-Fi [Intel(R) Wireless-AC 9462]</td>\n      <td>2_031</td>\n    </tr>\n    <tr>\n      <th>14</th>\n      <td>19/5/2021 4:50:27 μμ</td>\n      <td>00:3A:7D:1E:DC:F0</td>\n      <td>NaN</td>\n      <td>eduroam</td>\n      <td>-55</td>\n      <td>85</td>\n      <td>NaN</td>\n      <td>Ch 6 [2.437 GHz]</td>\n      <td>1 Station</td>\n      <td>Wi-Fi [Intel(R) Wireless-AC 9462]</td>\n      <td>2_031</td>\n    </tr>\n  </tbody>\n</table>\n</div>"
     },
     "metadata": {},
     "execution_count": 2
    }
   ],
   "source": [
    "# filepath = './_data/fingerprint'\n",
    "filepath = './redo15'\n",
    "\n",
    "filelist = os.listdir(filepath)\n",
    "filelist\n",
    "\n",
    "def dfinator(path):\n",
    "    nmlist = ['time', 'macID','vendor','access_pt','signal','idk','idk_2','freq','station_info','specs']\n",
    "    filelist = os.listdir(path)\n",
    "    megadf = pd.DataFrame(columns=nmlist)\n",
    "    for file_ in filelist:\n",
    "        df = pd.read_csv(os.path.join(path,file_)  , delimiter='\\t', names=nmlist)\n",
    "        df['place'] = str(file_).strip(\".txt\")\n",
    "        # df.time = pd.to_datetime(df.time)\n",
    "        megadf=megadf.append(df, ignore_index=True)\n",
    "    return megadf\n",
    "\n",
    "mega = dfinator(filepath)\n",
    "mega.to_csv(\"./_data/megadf.csv\")    \n",
    "\n",
    "eduroam_df = mega[mega['access_pt']=='eduroam'].copy()\n",
    "eduroam_df.reset_index(inplace=True)\n",
    "eduroam_df.drop('index', axis=1 , inplace=True)\n",
    "print(\"no of unique eduroam mac id:\\t\",len(eduroam_df.macID.unique()))\n",
    "print(f\"unique places are {eduroam_df.place.unique()}\")\n",
    "eduroam_df.head(15)\n"
   ]
  },
  {
   "cell_type": "code",
   "execution_count": 3,
   "metadata": {},
   "outputs": [
    {
     "output_type": "stream",
     "name": "stdout",
     "text": [
      "96\n['21_win' '22_aisle' '24_aisle']\n"
     ]
    },
    {
     "output_type": "execute_result",
     "data": {
      "text/plain": [
       "                      uniqueID30  signal     place                mac\n",
       "871  00:3A:7D:21:45:8F__24_aisle     -67  24_aisle  00:3A:7D:21:45:8F\n",
       "872  00:3A:7D:1E:DC:F0__24_aisle     -50  24_aisle  00:3A:7D:1E:DC:F0\n",
       "873  84:3D:C6:AD:B3:D0__24_aisle     -82  24_aisle  84:3D:C6:AD:B3:D0\n",
       "874  00:3A:7D:34:77:DF__24_aisle     -70  24_aisle  00:3A:7D:34:77:DF\n",
       "875  84:3D:C6:C7:F1:EF__24_aisle     -89  24_aisle  84:3D:C6:C7:F1:EF"
      ],
      "text/html": "<div>\n<style scoped>\n    .dataframe tbody tr th:only-of-type {\n        vertical-align: middle;\n    }\n\n    .dataframe tbody tr th {\n        vertical-align: top;\n    }\n\n    .dataframe thead th {\n        text-align: right;\n    }\n</style>\n<table border=\"1\" class=\"dataframe\">\n  <thead>\n    <tr style=\"text-align: right;\">\n      <th></th>\n      <th>uniqueID30</th>\n      <th>signal</th>\n      <th>place</th>\n      <th>mac</th>\n    </tr>\n  </thead>\n  <tbody>\n    <tr>\n      <th>871</th>\n      <td>00:3A:7D:21:45:8F__24_aisle</td>\n      <td>-67</td>\n      <td>24_aisle</td>\n      <td>00:3A:7D:21:45:8F</td>\n    </tr>\n    <tr>\n      <th>872</th>\n      <td>00:3A:7D:1E:DC:F0__24_aisle</td>\n      <td>-50</td>\n      <td>24_aisle</td>\n      <td>00:3A:7D:1E:DC:F0</td>\n    </tr>\n    <tr>\n      <th>873</th>\n      <td>84:3D:C6:AD:B3:D0__24_aisle</td>\n      <td>-82</td>\n      <td>24_aisle</td>\n      <td>84:3D:C6:AD:B3:D0</td>\n    </tr>\n    <tr>\n      <th>874</th>\n      <td>00:3A:7D:34:77:DF__24_aisle</td>\n      <td>-70</td>\n      <td>24_aisle</td>\n      <td>00:3A:7D:34:77:DF</td>\n    </tr>\n    <tr>\n      <th>875</th>\n      <td>84:3D:C6:C7:F1:EF__24_aisle</td>\n      <td>-89</td>\n      <td>24_aisle</td>\n      <td>84:3D:C6:C7:F1:EF</td>\n    </tr>\n  </tbody>\n</table>\n</div>"
     },
     "metadata": {},
     "execution_count": 3
    }
   ],
   "source": [
    "path30 = './_data/30sec/'\n",
    "thirty = dfinator(path30)\n",
    "thirty = thirty[thirty['access_pt']=='eduroam'].drop(['time','vendor','access_pt','idk','idk_2','freq','station_info','specs'], axis=1)\n",
    "\n",
    "\n",
    "thirty['uniqueID30'] = thirty['macID']+'__'+ thirty['place']\n",
    "thirty.drop(['macID','place'], axis=1, inplace=True)\n",
    "thirty.set_index('uniqueID30', inplace=True)\n",
    "thirty.signal = pd.to_numeric(thirty.signal)\n",
    "print(len(thirty.index.unique()))\n",
    "\n",
    "# thirty = thirty.groupby('uniqueID30').agg(lambda x: x.mean())\n",
    "thirty.reset_index(inplace=True)\n",
    "thirty['place'] = thirty['uniqueID30'].apply(lambda x: x.split('__')[-1])\n",
    "thirty['mac'] = thirty['uniqueID30'].apply(lambda x: x.split('__')[0])\n",
    "print(thirty.place.unique())\n",
    "thirty_24 = thirty[thirty['place']=='24_aisle']\n",
    "thirty_24.head()\n"
   ]
  },
  {
   "cell_type": "code",
   "execution_count": 16,
   "metadata": {},
   "outputs": [
    {
     "output_type": "execute_result",
     "data": {
      "text/plain": [
       "tuple"
      ]
     },
     "metadata": {},
     "execution_count": 16
    }
   ],
   "source": [
    "mldf = eduroam_df.drop(['time','vendor','access_pt','idk','idk_2','freq','station_info','specs'], axis=1)\n",
    "mldf['uniqueID'] = mldf['macID']+'__'+mldf['place']\n",
    "\n",
    "a = mldf.macID.unique()\n",
    "mldf['macno'] = mldf.macID.apply(lambda x: np.where(a==x))#[0][0])\n",
    "mldf\n",
    "type(np.where(a==\"00:3A:7D:21:42:EF\"))\n",
    "\n"
   ]
  },
  {
   "cell_type": "code",
   "execution_count": 44,
   "metadata": {},
   "outputs": [
    {
     "output_type": "stream",
     "name": "stdout",
     "text": [
      "Predicted room is 24_aisle, actual room is 24_aisle. Prediction done with a score of 0.40615384615384614\n"
     ]
    }
   ],
   "source": [
    "\n",
    "x_train = mldf[['signal' , 'macno']]\n",
    "y_train = pd.Series(mldf.place)\n",
    "# print(x_train)\n",
    "# print(y_train)\n",
    "# mldf\n",
    "\n",
    "def indexer(a,x):\n",
    "    ind = np.where(a==x)[0]\n",
    "    if len(ind)!=0:\n",
    "        return ind[0]\n",
    "\n",
    "x_test = thirty_24[['signal' , 'mac']].copy()\n",
    "y_test = pd.Series(thirty_24.place)\n",
    "x_test['macnot'] = x_test.mac.apply(lambda x: indexer(a,x))\n",
    "x_test.drop(['mac'], axis=1, inplace=True)\n",
    "x_test.dropna(inplace=True)\n",
    "x_test.head()\n",
    "\n",
    "knn = KNeighborsClassifier(n_neighbors = 7)\n",
    "knn.fit(x_train , y_train)\n",
    "pred = knn.predict(x_test)\n",
    "\n",
    "print(f\"Predicted room is {stats.mode(pred)[0][0]}, actual room is {str(y_test.iloc[0])}. Prediction done with a score of {knn.score(x_test, y_test[:x_test.shape[0]])}\")"
   ]
  },
  {
   "cell_type": "code",
   "execution_count": 48,
   "metadata": {},
   "outputs": [
    {
     "output_type": "execute_result",
     "data": {
      "text/plain": [
       "ModeResult(mode=array(['24_aisle'], dtype=object), count=array([132]))"
      ]
     },
     "metadata": {},
     "execution_count": 48
    }
   ],
   "source": [
    "stats.mode(pred)"
   ]
  },
  {
   "cell_type": "code",
   "execution_count": null,
   "metadata": {},
   "outputs": [],
   "source": []
  }
 ]
}